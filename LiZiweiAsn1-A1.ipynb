{
 "cells": [
  {
   "cell_type": "code",
   "execution_count": 2,
   "metadata": {},
   "outputs": [
    {
     "name": "stdout",
     "output_type": "stream",
     "text": [
      "                                                    Act2018  Act2019  Proj2020\n",
      "CODE                                                                          \n",
      "# Division A - Income Statement - actual and ye...      NaN      NaN       NaN\n",
      "SALE                                                   43.9     40.3      50.2\n",
      "CGS                                                    17.5     18.0      18.2\n",
      "PROF                                                   26.4     22.3      32.0\n",
      "SGA                                                     2.1      1.8       2.1\n",
      "ADV                                                     1.3      1.2       1.5\n",
      "DEP                                                     2.6      2.5       3.2\n",
      "RENT                                                    2.2      2.2       2.2\n",
      "OTHX                                                    3.1      3.2       3.4\n",
      "EXP                                                    11.3     10.9      12.4\n",
      "EBT                                                    15.1     11.4      19.6\n",
      "# Division B - Income Statement - actual and ye...      NaN      NaN       NaN\n",
      "SALE                                                   33.7     35.0      36.0\n",
      "CGS                                                    15.0     15.5      16.2\n",
      "PROF                                                   18.7     19.5      19.8\n",
      "SGA                                                     1.8      1.8       2.4\n",
      "ADV                                                     1.1      1.2       1.3\n",
      "DEP                                                     2.1      2.2       2.3\n",
      "RENT                                                    1.0      0.5       0.0\n",
      "OTHX                                                    2.0      2.1       2.2\n",
      "EXP                                                     8.0      7.8       8.2\n",
      "EBT                                                    10.7     11.7      11.6\n",
      "                                                    Act2018  Act2019  Proj2020\n",
      "CODE                                                                          \n",
      "# Division A - Income Statement - actual and ye...      NaN      NaN       NaN\n",
      "SALE                                                   44.9     41.3      51.2\n",
      "CGS                                                    18.5     19.0      19.2\n",
      "PROF                                                   27.4     23.3      33.0\n",
      "SGA                                                     3.1      2.8       3.1\n",
      "ADV                                                     2.3      2.2       2.5\n",
      "DEP                                                     3.6      3.5       4.2\n",
      "RENT                                                    3.2      3.2       3.2\n",
      "OTHX                                                    4.1      4.2       4.4\n",
      "EXP                                                    12.3     11.9      13.4\n",
      "EBT                                                    16.1     12.4      20.6\n",
      "# Division B - Income Statement - actual and ye...      NaN      NaN       NaN\n",
      "SALE                                                   34.7     36.0      37.0\n",
      "CGS                                                    16.0     16.5      17.2\n",
      "PROF                                                   19.7     20.5      20.8\n",
      "SGA                                                     2.8      2.8       3.4\n",
      "ADV                                                     2.1      2.2       2.3\n",
      "DEP                                                     3.1      3.2       3.3\n",
      "RENT                                                    2.0      1.5       1.0\n",
      "OTHX                                                    3.0      3.1       3.2\n",
      "EXP                                                     9.0      8.8       9.2\n",
      "EBT                                                    11.7     12.7      12.6\n"
     ]
    }
   ],
   "source": [
    "#LiZiweiAsn1-A1\n",
    "import pandas as pd\n",
    "# open xlsx incstmt-diva.xlsx, incstmt-divb.xlsx and incstmt-0.xlsx, and set CODE as index\n",
    "fdiv0 = pd.read_excel('incstmt-0.xlsx',index_col = 0)\n",
    "fdiva = pd.read_excel('incstmt-diva.xlsx',index_col = 0)\n",
    "fdivb = pd.read_excel('incstmt-divb.xlsx',index_col = 0)\n",
    "\n",
    "#combines division A and division B \n",
    "fab = pd.concat([fdiva,fdivb],axis = 0)\n",
    "#drop columns \"Description\" from fab\n",
    "fab = fab.drop(columns = ['Description'])\n",
    "print(fab)\n",
    "#use DataFream.add() to add 1 to values of fab\n",
    "fab1 = fab.add(1)\n",
    "print(fab1)\n"
   ]
  },
  {
   "cell_type": "code",
   "execution_count": null,
   "metadata": {},
   "outputs": [],
   "source": []
  }
 ],
 "metadata": {
  "kernelspec": {
   "display_name": "Python 3",
   "language": "python",
   "name": "python3"
  },
  "language_info": {
   "codemirror_mode": {
    "name": "ipython",
    "version": 3
   },
   "file_extension": ".py",
   "mimetype": "text/x-python",
   "name": "python",
   "nbconvert_exporter": "python",
   "pygments_lexer": "ipython3",
   "version": "3.7.3"
  }
 },
 "nbformat": 4,
 "nbformat_minor": 2
}
